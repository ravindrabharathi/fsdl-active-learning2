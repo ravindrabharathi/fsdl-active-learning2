{
  "nbformat": 4,
  "nbformat_minor": 0,
  "metadata": {
    "accelerator": "GPU",
    "colab": {
      "name": "active-learning-template",
      "provenance": [],
      "collapsed_sections": [],
      "machine_shape": "hm",
      "include_colab_link": true
    },
    "kernelspec": {
      "display_name": "Python 3",
      "name": "python3"
    }
  },
  "cells": [
    {
      "cell_type": "markdown",
      "metadata": {
        "id": "view-in-github",
        "colab_type": "text"
      },
      "source": [
        "<a href=\"https://colab.research.google.com/github/matthiaspfenninger/fsdl-active-learning/blob/pytorch_lab_structure/notebooks/clone_repo_and_train.ipynb\" target=\"_parent\"><img src=\"https://colab.research.google.com/assets/colab-badge.svg\" alt=\"Open In Colab\"/></a>"
      ]
    },
    {
      "cell_type": "code",
      "metadata": {
        "id": "32Et0yLIrErp"
      },
      "source": [
        "!git clone https://github.com/ravindrabharathi/fsdl-active-learning2"
      ],
      "execution_count": null,
      "outputs": []
    },
    {
      "cell_type": "code",
      "metadata": {
        "id": "PVuDwtl8t_Ew"
      },
      "source": [
        "%cd fsdl-active-learning2"
      ],
      "execution_count": null,
      "outputs": []
    },
    {
      "cell_type": "code",
      "metadata": {
        "id": "ds7QXOu5imsW"
      },
      "source": [
        "# alternative way: if you cloned the repository to your GDrive account, you can mount it here\n",
        "\n",
        "#from google.colab import drive\n",
        "#drive.mount('/content/drive', force_remount=True)\n",
        "#%cd /content/drive/MyDrive/fsdl-active-learning2"
      ],
      "execution_count": null,
      "outputs": []
    },
    {
      "cell_type": "code",
      "metadata": {
        "id": "1bX8zIz-i2pJ"
      },
      "source": [
        "!pip3 install boltons wandb pytorch_lightning==1.2.8 pip install torch==1.7.1+cu110 torchvision==0.8.2+cu110 torchaudio==0.7.2 torchtext==0.8.1 -f https://download.pytorch.org/whl/torch_stable.html # general lab / pytorch installs\n",
        "!pip3 install modAL tensorflow skorch hdbscan # active learning project\n",
        "\n",
        "%env PYTHONPATH=.:$PYTHONPATH"
      ],
      "execution_count": null,
      "outputs": []
    },
    {
      "cell_type": "code",
      "metadata": {
        "id": "sr_-Brzm1afQ"
      },
      "source": [
        "!wandb login your_personal_wb_key # enter personal w&b key here\n",
        "!wandb init --project fdsl-active-learning --entity fsdl_active_learners"
      ],
      "execution_count": null,
      "outputs": []
    },
    {
      "cell_type": "code",
      "metadata": {
        "id": "mw7Tcp8Qiw9h"
      },
      "source": [
        "!python training/run_experiment.py --sampling_method=mb_clustering --data_class=DroughtWatch --model_class=ResnetClassifier --batch_size=64 --n_train_images=10000 --n_validation_images=10778 --pretrained=True --num_workers=4 --dropout=True --gpus=1 --max_epochs=20"
      ],
      "execution_count": null,
      "outputs": []
    },
    {
      "cell_type": "code",
      "metadata": {
        "id": "N_OrR44A4gax"
      },
      "source": [],
      "execution_count": null,
      "outputs": []
    }
  ]
}